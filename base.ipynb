{
 "cells": [
  {
   "cell_type": "markdown",
   "id": "2bf2fcb8-d7c1-45ab-9319-7937544d9339",
   "metadata": {},
   "source": [
    "# Bert-VITS2 2.0 版本 \n",
    "## -- powered by [@spicysama](https://github.com/AnyaCoder)\n",
    "## -- bilibili: [spicysama](https://space.bilibili.com/47278440)\n",
    "- 代码块可以在点击选中后，按Shift+Enter执行，或者点击上方的小三角按钮**开始**执行。\n",
    "- 点击上方的小方块按钮**终止**代码运行。\n",
    "- markdown文本块也是一样。\n",
    "- 步骤1到4推荐使用无卡模式。最好先看步骤4（处理音频）"
   ]
  },
  {
   "cell_type": "markdown",
   "id": "46252f99-422b-489d-926c-73254f882aea",
   "metadata": {},
   "source": [
    "### Step 1. 克隆代码仓库\n",
    "- 慎点，如果已经有了项目文件夹会先删除再下载\n",
    "- 会同步最新的github代码"
   ]
  },
  {
   "cell_type": "code",
   "execution_count": null,
   "id": "fd033714-33e7-4d2d-8705-a0cd96336f1c",
   "metadata": {},
   "outputs": [],
   "source": [
    "%cd ~/autodl-tmp/\n",
    "!chmod +x configure_git.sh\n",
    "!./configure_git.sh"
   ]
  },
  {
   "cell_type": "markdown",
   "id": "55d4f6c2-d1b6-455d-aa25-81b53f9b330a",
   "metadata": {},
   "source": [
    "### Step 2. 获取bert模型\n",
    "  - **必须下载**对应的bert模型(都命名为`pytorch_model.bin`,不要混淆,不是一个模型)放到项目里下面显示的目录：\n",
    "  - [**百度网盘链接**](https://pan.baidu.com/s/1dynGY8l65uuls_eO6uximQ?pwd=bb7p) \n",
    "  - 提取码：bb7p\n",
    "  - 或者选择huggingface.co官网下载(选择`Files and versions`那一栏可以看到模型):\n",
    "    1. [bert-base-japanese-v3](https://huggingface.co/cl-tohoku/bert-base-japanese-v3)\n",
    "    2. [bert-large-japanese-v2](https://huggingface.co/cl-tohoku/bert-large-japanese-v2)\n",
    "    3. [chinese-roberta-wwm-ext-large](https://huggingface.co/hfl/chinese-roberta-wwm-ext-large)\n",
    "    4. [deberta-v2-large-japanese](https://huggingface.co/ku-nlp/deberta-v2-large-japanese)\n",
    "    5. [deberta-v3-large](https://huggingface.co/microsoft/deberta-v3-large)"
   ]
  },
  {
   "cell_type": "code",
   "execution_count": null,
   "id": "bf3b5fbc-4bea-41e9-9ef9-114cc8b042c3",
   "metadata": {},
   "outputs": [],
   "source": [
    "# 点击这个尝试下载，亲测很快\n",
    "%cd ~/autodl-tmp/\n",
    "!chmod +x download_bert.sh\n",
    "!./download_bert.sh"
   ]
  },
  {
   "cell_type": "code",
   "execution_count": null,
   "id": "d99b8395-32de-4acf-b0cb-3e8e2e6c2c89",
   "metadata": {},
   "outputs": [],
   "source": [
    "# 显示下载的bert模型应该放的目录(每个子文件夹在配置后必须有pytorch_model.bin文件）\n",
    "%cd ~/autodl-tmp/\n",
    "!tree /root/autodl-tmp/Bert-VITS2/bert -L 2"
   ]
  },
  {
   "cell_type": "markdown",
   "id": "3a95f98c-ce8d-43e5-b31c-9f3e8d99f020",
   "metadata": {},
   "source": [
    "### Step 3. 获取emotional情绪wav2vec2模型\n",
    "- **必须下载**这个模型(命名为`pytorch_model.bin`)到下面这个目录:\n",
    "- [**百度网盘链接**](https://pan.baidu.com/s/1XGP6zRJaF-2hmGSxdP2HOg?pwd=w52m) \n",
    "- 提取码：w52m\n",
    "- 或者选择huggingface.co官网下载(选择`Files and versions`那一栏可以看到模型):\n",
    "  1. [wav2vec2-large-robust-12-ft-emotion-msp-dim](https://huggingface.co/audeering/wav2vec2-large-robust-12-ft-emotion-msp-dim)"
   ]
  },
  {
   "cell_type": "code",
   "execution_count": null,
   "id": "32f39260-e54f-45c2-8b8a-eac29657e0c1",
   "metadata": {},
   "outputs": [],
   "source": [
    "# 点击这个尝试下载，亲测很快\n",
    "%cd ~/autodl-tmp/\n",
    "!chmod +x download_emo.sh\n",
    "!./download_emo.sh"
   ]
  },
  {
   "cell_type": "code",
   "execution_count": null,
   "id": "0b8d2643-8b85-4a7f-bd41-a4c8c5792a32",
   "metadata": {},
   "outputs": [],
   "source": [
    "# 显示下载的emotional wav2vec2模型应该放的目录(子文件夹在配置后必须有pytorch_model.bin文件）\n",
    "%cd ~/autodl-tmp/Bert-VITS2\n",
    "!tree /root/autodl-tmp/Bert-VITS2/emotional -L 2"
   ]
  },
  {
   "cell_type": "markdown",
   "id": "1de80e9d-6e33-4e0a-9678-cab9f3d9e949",
   "metadata": {},
   "source": [
    "### Step 4. 进入项目，执行代码\n",
    "- **确保这一步执行后才能执行它之后的步骤**"
   ]
  },
  {
   "cell_type": "code",
   "execution_count": null,
   "id": "2fda5c87-afb3-4240-aa6d-e231555d25c0",
   "metadata": {},
   "outputs": [],
   "source": [
    "# 绝对路径定位到项目文件夹 \n",
    "%cd /root/autodl-tmp/Bert-VITS2\n",
    "# 把“宵宫”换成你的角色名"
   ]
  },
  {
   "cell_type": "markdown",
   "id": "78dc22c3-c403-4dde-9003-d14c00fbef0e",
   "metadata": {},
   "source": [
    "### Step 5. 处理你的数据集（可以用此项目内置的方式，也可以自己选择任意方法）\n",
    "1. 给你的音频去除背景音，降噪，保持响度对齐等等，提升原始音频的质量，对未来训练有帮助。\n",
    "2. 给时长较长的音频(> 15 s) 切片，直到都小于15 s。推荐在保证完整说完的情况下越短越好。\n",
    "3. 所有的音频格式均为`.wav`(小写)，不是的话则需要转换。"
   ]
  },
  {
   "cell_type": "markdown",
   "id": "9cb24527-3385-43d8-a7be-c3f518f2d8d8",
   "metadata": {},
   "source": [
    "### Step 6. 上传你的数据集\n",
    "1. 在项目下新建一个Data文件夹，有则跳过.\n",
    "2. 进入Data文件夹，然后创建一个自己命名的文件夹（以角色名命名为例:可莉），有则跳过.\n",
    "3. 对于每一个角色名命名的文件夹（下面AB选一个做）\n",
    "    1. （推荐）你需要在下面建立audios文件夹，再在audios文件夹下建立raw文件夹\n",
    "       - 举例： `./Data/可莉/audios/raw/`, 这个路径放这个角色的所有音频以及.lab文件\n",
    "    3. （可选）查看项目文件夹下的config.yml文档，自定义原始音频存放位置。\n",
    "   <br>**Tips:**</br>\n",
    "    - 建议选择公网网盘来下载数据(会下载到autodl-tmp文件夹下)，详情可见[**公网网盘帮助文档**](https://www.autodl.com/docs/netdisk/)\n",
    "    - 建议用下面的代码检查数据存放的情况"
   ]
  },
  {
   "cell_type": "code",
   "execution_count": null,
   "id": "318819af-8f50-4f29-aa2c-1debdb2b89b4",
   "metadata": {},
   "outputs": [],
   "source": [
    "# 快速创建多级文件夹\n",
    "%cd ~/autodl-tmp/Bert-VITS2\n",
    "# 把“宵宫”换成你的角色名\n",
    "c_name = \"ZRY\"\n",
    "!mkdir -p \"./Data/$c_name/audios/raw\"\n",
    "!cp \"configs/config.json\" \"./Data/$c_name/\"\n",
    "!echo \"完成创建操作\""
   ]
  },
  {
   "cell_type": "code",
   "execution_count": null,
   "id": "533fe7e0-51e0-402f-87eb-9a83cd0db27b",
   "metadata": {},
   "outputs": [],
   "source": [
    "# 快速递归地删除多级文件夹（即文件夹下的所有文件和文件夹本身）\n",
    "%cd ~/autodl-tmp/Bert-VITS2\n",
    "# 把“宵宫”换成你的角色名\n",
    "c_name = \"ZRY\"\n",
    "!rm -r \"./Data/$c_name\"\n",
    "!echo \"完成删除操作\""
   ]
  },
  {
   "cell_type": "code",
   "execution_count": null,
   "id": "5edac5f1-b220-4352-80e7-91fa89375b71",
   "metadata": {},
   "outputs": [],
   "source": [
    "# 显示Data文件夹下的树状结构内容\n",
    "%cd ~/autodl-tmp/Bert-VITS2\n",
    "!tree ./Data -L 3"
   ]
  },
  {
   "cell_type": "markdown",
   "id": "d6621953-89bf-4cf1-a828-0fd030bb8942",
   "metadata": {},
   "source": [
    "### 可选：转写音频\n",
    "#### 可以时不时右键输出框,清除输出"
   ]
  },
  {
   "cell_type": "code",
   "execution_count": null,
   "id": "b054853f-5e32-4851-bd5a-6b84562cd676",
   "metadata": {
    "scrolled": true
   },
   "outputs": [],
   "source": [
    "\n",
    "%cd /root/autodl-tmp/Bert-VITS2\n",
    "# 把“宵宫”换成你的角色名, -l 后面是\"ZH\"/\"JP\"/\"EN\",分别对应中日英三种语言, -w 对应转写线程数\n",
    "!python asr_transcript.py -f \"./Data/宵宫/audios/raw\" -l \"ZH\" -w 1"
   ]
  },
  {
   "cell_type": "markdown",
   "id": "61ba6ebc-63eb-4e75-8d63-23204dc78240",
   "metadata": {},
   "source": [
    "- 查看转写后的lab文本"
   ]
  },
  {
   "cell_type": "code",
   "execution_count": null,
   "id": "b7aa79ae-74f7-4d10-bb27-1f6942eb8c1c",
   "metadata": {},
   "outputs": [],
   "source": [
    "%cd ~/autodl-tmp/Bert-VITS2\n",
    "# 把“宵宫”换成你的角色名\n",
    "raw_dir=\"./Data/宵宫/audios/raw\"\n",
    "!ls -1 \"$raw_dir\"/*.lab | head -n 5\n",
    "!echo \"...\"\n",
    "!ls -1 \"$raw_dir\"/*.lab | tail -n 5\n",
    "!echo \"所有在\"$raw_dir\"下的 .lab 文件数: $(ls -1 \"$raw_dir\"/*.lab | wc -l)\""
   ]
  },
  {
   "cell_type": "markdown",
   "id": "1556de13-36a3-425c-bc10-8f13c2d627bb",
   "metadata": {},
   "source": [
    "### Step 7. 音频转为44100Hz\n",
    "1. 规范并统一音频采样率，便于训练。\n",
    "2. 注意尽量避免升采样，(低Hz -> 高Hz)\n",
    "3. 会在每一个角色`audios`文件夹下生成一个`wavs`文件夹，同结构地放了重采样后的音频"
   ]
  },
  {
   "cell_type": "markdown",
   "id": "228ff339-4c97-4112-8178-214a57ca963c",
   "metadata": {},
   "source": [
    "- A. 无gpu模式"
   ]
  },
  {
   "cell_type": "code",
   "execution_count": null,
   "id": "8248209f-ad72-4300-99ca-f15ef4a8f9da",
   "metadata": {},
   "outputs": [],
   "source": [
    "%cd ~/autodl-tmp/Bert-VITS2\n",
    "# 把“宵宫”换成你的角色名\n",
    "c_name = \"ZRY\"\n",
    "!python resample.py --in_dir \"./Data/$c_name/audios/raw\" --out_dir \"./Data/$c_name/audios/wavs\" --processes 1"
   ]
  },
  {
   "cell_type": "markdown",
   "id": "6132ac27-0009-48dd-86c5-5ec130725d44",
   "metadata": {},
   "source": [
    "- B. 有gpu模式"
   ]
  },
  {
   "cell_type": "code",
   "execution_count": null,
   "id": "fb99b521-117b-4ede-9073-78233d796a85",
   "metadata": {},
   "outputs": [],
   "source": [
    "%cd ~/autodl-tmp/Bert-VITS2\n",
    "# 把“宵宫”换成你的角色名\n",
    "c_name = \"ZRY\"\n",
    "!python resample.py --in_dir \"./Data/$c_name/audios/raw\" --out_dir \"./Data/$c_name/audios/wavs\""
   ]
  },
  {
   "cell_type": "markdown",
   "id": "3f959cc8-50cf-4658-85bd-5ce04d567a12",
   "metadata": {},
   "source": [
    "- 查看重采样之后的音频"
   ]
  },
  {
   "cell_type": "code",
   "execution_count": null,
   "id": "27068948-a1e4-4ea3-9ccb-5e588328cb6d",
   "metadata": {},
   "outputs": [],
   "source": [
    "%cd ~/autodl-tmp/Bert-VITS2\n",
    "# 把“宵宫”换成你的角色名\n",
    "wav_dir=\"./Data/ZRY/audios/wavs\"\n",
    "!ls -1 \"$wav_dir\"/*.wav | head -n 5\n",
    "!ls -1 \"$wav_dir\"/*/*.wav | head -n 5\n",
    "!echo \"...\"\n",
    "!ls -1 \"$wav_dir\"/*.wav | tail -n 5\n",
    "!ls -1 \"$wav_dir\"/*/*.wav | tail -n 5\n",
    "!echo \"所有直接在\"$wav_dir\"下的 .wav 文件数: $(ls -1 \"$wav_dir\"/*.wav | wc -l)\"\n",
    "!echo \"所有间接在\"$wav_dir\"下的 .wav 文件数: $(ls -1 \"$wav_dir\"/*/*.wav | wc -l)\""
   ]
  },
  {
   "cell_type": "markdown",
   "id": "7f031237-3ace-40af-b281-f947699c0aec",
   "metadata": {},
   "source": [
    "### Step 8. 给音频生成训练用的所有文本文件(./flielists)\n",
    "1. 将所有的`.lab`一行一个，放入一个总转写文本(例如:`genshin.list`)\n",
    "2. 从`genshin.list`中生成文本清理文件`genshin.list.cleaned`，训练集文件`train.list`，和验证集文件`val.list`"
   ]
  },
  {
   "cell_type": "markdown",
   "id": "f9f14a22-357b-4f5b-a76f-c7f896ac4bd7",
   "metadata": {},
   "source": [
    "#### (1) 给一个角色生成一个list"
   ]
  },
  {
   "cell_type": "code",
   "execution_count": null,
   "id": "a2d1e011-b6dd-4a77-9249-eed5e2f71ef9",
   "metadata": {},
   "outputs": [],
   "source": [
    "\n",
    "%cd ~/autodl-tmp/Bert-VITS2\n",
    "# 把“宵宫”换成你的角色名, -l 后面是\"ZH\"/\"JP\"/\"EN\",分别对应中日英三种语言\n",
    "# Data/{m_name}, m_name是模型名称\n",
    "m_name = \"ZRY\"\n",
    "# Data/m_name/{c_name}, c_name是角色名\n",
    "c_name = \"Clara\"\n",
    "# 语言选择 \"ZH\"\"JP\"\"EN\"\n",
    "lang = \"EN\"\n",
    "\n",
    "!echo \"./Data/\"\"$m_name\"\"/\"\"$c_name\"\".list\"\n",
    "!echo \"./Data/$m_name/genshin.list\"\n",
    "# .lab -> .list, 顺便清洗文本\n",
    "!python extract_list.py -f \"./Data/$m_name/audios/raw/$c_name\" -l \"$lang\" -n \"$c_name\" -o \"./filelists/_genshin.list\"\n",
    "!python clean_list.py -i \"./filelists/_genshin.list\" -o \"./filelists/genshin.list\" -c \"{}<>\"\n",
    "!cp \"./filelists/genshin.list\" \"./Data/$m_name/\"\n",
    "!mv \"./Data/$m_name/genshin.list\" \"./Data/$m_name/filelists/$c_name\"\".list\""
   ]
  },
  {
   "cell_type": "markdown",
   "id": "aa3a54de-cb77-422d-8134-4e5ee7c845f6",
   "metadata": {},
   "source": [
    "#### (2) 把所有角色的list综合起来"
   ]
  },
  {
   "cell_type": "code",
   "execution_count": null,
   "id": "75dc914f-72ba-4451-98ac-7413472274e2",
   "metadata": {},
   "outputs": [],
   "source": [
    "%cd ~/autodl-tmp/Bert-VITS2\n",
    "# Data/{m_name}, m_name是模型名称\n",
    "m_name = \"ZRY\"\n",
    "filesdir = \"./Data/$m_name/filelists\"\n",
    "!echo \"$filesdir\"\n",
    "!rm \"$filesdir/genshin.list\"\n",
    "!rm \"$filesdir/genshin.list.cleaned\"\n",
    "!rm \"$filesdir/train.list\"\n",
    "!rm \"$filesdir/val.list\"\n",
    "!cat \"$filesdir/*.list\" \"$filesdir/combined.list\"\n",
    "!mv \"$filesdir/combined.list\" \"$filesdir/genshin.list\""
   ]
  },
  {
   "cell_type": "markdown",
   "id": "94f38b16-e8d0-43b1-bc7c-50f5d725e276",
   "metadata": {},
   "source": [
    "#### (3) 开始生成标注"
   ]
  },
  {
   "cell_type": "code",
   "execution_count": null,
   "id": "61cb175b-1126-40d3-90e8-47b20d0247b9",
   "metadata": {},
   "outputs": [],
   "source": [
    "%cd ~/autodl-tmp/Bert-VITS2\n",
    "!source /etc/network_turbo\n",
    "!python preprocess_text.py\n",
    "!unset http_proxy && unset https_proxy"
   ]
  },
  {
   "cell_type": "markdown",
   "id": "94a5deee-f391-4a1d-aaa4-c1270b5bb4b0",
   "metadata": {},
   "source": [
    "### Step 9. 根据文本清理文件生成bert.pt文件\n",
    "1. 根据文本清理文件生成同文件名的后缀为`.bert.pt`文件，放在`wavs`文件夹下\n",
    "2. num_processes 对于12GB显存，设为6足够了\n",
    "3. 出现`FileNotFoundError: [Errno 2] No such file or directory: 'Data/你的数据集/filelists/train.list'`之类的错误,需要到`config.yml`文件中更改`dataset_path`字段。\n",
    "4. 记得改config.yml的dataset_path"
   ]
  },
  {
   "cell_type": "code",
   "execution_count": null,
   "id": "19674967-39ae-4c80-89f0-d3195ae3450f",
   "metadata": {},
   "outputs": [],
   "source": [
    "%cd ~/autodl-tmp/Bert-VITS2\n",
    "# ./filelists/\n",
    "# 如果是4090 可以大一些\n",
    "!python bert_gen.py -n 8"
   ]
  },
  {
   "cell_type": "markdown",
   "id": "87fdf54f-4296-401d-86a1-1e82388cfc5d",
   "metadata": {},
   "source": [
    "### Step 10. 修改训练配置文件\n",
    "1. 用editor打开项目下的`configs/config.json`\n",
    "2. 需要配置的有`learning_rate`和`batch_size`, 其中`batch_size`根据显存大小来指定，建议保持比例0.0001:6\n",
    "3. 还需要看到最后一行的`version`, 可供选择的版本有:\n",
    "   - `1.1.1-fix` (推荐)\n",
    "   - `1.1.1`\n",
    "   - `1.1.0`\n",
    "   - `1.0.1`\n",
    "   - `1.0.0`\n",
    "4. 下面的脚本可以下载底模到`/root/autodl-tmp`下，是三个pth文件，请把他们放到合适的位置\n",
    "   - 如项目文件夹下, `./Data/角色名/models/`"
   ]
  },
  {
   "cell_type": "code",
   "execution_count": null,
   "id": "281a2394-e485-48b7-9565-a1b2b9ba3a83",
   "metadata": {},
   "outputs": [],
   "source": [
    "# 点击这个尝试下载，亲测很快\n",
    "%cd ~/autodl-tmp/\n",
    "!chmod +x download_models.sh\n",
    "!./download_models.sh"
   ]
  },
  {
   "cell_type": "markdown",
   "id": "d684e1ee-2f18-4ccb-a00c-36807d380117",
   "metadata": {},
   "source": [
    "### Step 11. 开始训练\n",
    "1. 用editor打开项目下的`config.yml`, 看到`train_ms`项，请按提示修改底模文件夹位置\n",
    "2. 用下面的代码执行即可，要终止请点击上方的小方块。\n",
    "3. 出现`Saving models` 代表模型已出炉。\n",
    "4. 选择的训练配置文件`.json`默认在 `./Data/角色名/`下，需要更改里面的版本\n"
   ]
  },
  {
   "cell_type": "code",
   "execution_count": null,
   "id": "fc9d95ae-c0cc-43ea-ac0d-09b11bc8382b",
   "metadata": {},
   "outputs": [
    {
     "name": "stdout",
     "output_type": "stream",
     "text": [
      "129it [02:38,  1.04it/s]"
     ]
    }
   ],
   "source": [
    "%cd ~/autodl-tmp/Bert-VITS2\n",
    "# 把“宵宫”换成你的角色名\n",
    "md_path = \"./Data/ZRY/models\"\n",
    "!mkdir -p \"$md_path\"\n",
    "!mv ../D_0.pth \"$md_path\"\n",
    "!mv ../G_0.pth \"$md_path\"\n",
    "!mv ../DUR_0.pth \"$md_path\"\n",
    "!python train_ms.py"
   ]
  },
  {
   "cell_type": "markdown",
   "id": "e0c9b7f7-edb1-4a80-a0d5-f8a239fe33e3",
   "metadata": {},
   "source": [
    "### Step 12. 开始推理\n",
    "1. 可以使用[**@sora**](https://github.com/jiangyuxiaoxiao)的`server_fastapi.py`来打开界面，按照提示即可。\n",
    "2. 也可以使用命令行打开原始`webui`.\n",
    "3. 融合推理：需要改原本模型文件的`config.json`,在最后一行加上`version`字段,就像下面这样:\n",
    "   ```json\n",
    "       ....(省略上面的内容)\n",
    "       },\n",
    "       \"version\": \"1.1.1-fix\"\n",
    "   } \n",
    "   (json结尾)\n",
    "   ```\n",
    "   "
   ]
  },
  {
   "cell_type": "code",
   "execution_count": null,
   "id": "73b19a07-06b9-42ad-8f26-dc2d83a4793c",
   "metadata": {},
   "outputs": [],
   "source": [
    "# 这里提供原始的webui(gradio)界面\n",
    "%cd ~/autodl-tmp/Bert-VITS2\n",
    "# 支持作者，请到config.yml中去改配置文件\n",
    "!python webui.py"
   ]
  },
  {
   "cell_type": "markdown",
   "id": "aa504f58-9a3a-4d2a-a87e-06f176d23a88",
   "metadata": {},
   "source": [
    "## Thanks for your support\n",
    "## -- powered by [@spicysama](https://github.com/AnyaCoder)\n",
    "## -- bilibili: [spicysama](https://space.bilibili.com/47278440)"
   ]
  }
 ],
 "metadata": {
  "kernelspec": {
   "display_name": "base",
   "language": "python",
   "name": "base"
  },
  "language_info": {
   "codemirror_mode": {
    "name": "ipython",
    "version": 3
   },
   "file_extension": ".py",
   "mimetype": "text/x-python",
   "name": "python",
   "nbconvert_exporter": "python",
   "pygments_lexer": "ipython3",
   "version": "3.11.5"
  }
 },
 "nbformat": 4,
 "nbformat_minor": 5
}
